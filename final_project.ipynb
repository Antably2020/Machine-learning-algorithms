{
 "cells": [
  {
   "cell_type": "code",
   "execution_count": null,
   "id": "a3563912",
   "metadata": {},
   "outputs": [],
   "source": [
    "import pandas as pd\n",
    "import numpy as np\n",
    "import matplotlib.pyplot as plt\n",
    "from sklearn import preprocessing\n",
    "from sklearn.linear_model import LogisticRegression\n",
    "from sklearn.model_selection import train_test_split\n",
    "from sklearn.preprocessing import StandardScaler\n",
    "from sklearn.metrics import classification_report, confusion_matrix\n",
    "import keras\n",
    "from keras.models import Sequential\n",
    "from keras.layers import Dense\n",
    "from sklearn.naive_bayes import GaussianNB\n",
    "from sklearn import metrics\n",
    "\n",
    "# Read in the Dataset, creat dataframe\n",
    "df = pd.read_csv('noshowappointments-kagglev2-may-2016.csv')\n",
    "df.head()"
   ]
  },
  {
   "cell_type": "code",
   "execution_count": null,
   "id": "c74e034b",
   "metadata": {},
   "outputs": [],
   "source": [
    "df.info()"
   ]
  },
  {
   "cell_type": "code",
   "execution_count": null,
   "id": "763d90ef",
   "metadata": {},
   "outputs": [],
   "source": [
    "df.describe()"
   ]
  },
  {
   "cell_type": "code",
   "execution_count": null,
   "id": "2d977db6",
   "metadata": {},
   "outputs": [],
   "source": [
    "#Duplicates? \n",
    "\n",
    "data_duplicates = df.duplicated()\n",
    "print ('Duplicated rows = {}'.format(data_duplicates.sum()))"
   ]
  },
  {
   "cell_type": "code",
   "execution_count": null,
   "id": "a8913b93",
   "metadata": {},
   "outputs": [],
   "source": [
    "df = df.drop(['PatientId','ScheduledDay','SMS_received','AppointmentID','AppointmentDay'], axis=1)\n",
    "df.head()"
   ]
  },
  {
   "cell_type": "code",
   "execution_count": null,
   "id": "fbcf63f3",
   "metadata": {},
   "outputs": [],
   "source": [
    "# missing values?\n",
    "df.isnull().sum()"
   ]
  },
  {
   "cell_type": "code",
   "execution_count": null,
   "id": "db0c06a5",
   "metadata": {},
   "outputs": [],
   "source": [
    "# negative age?\n",
    "df[df.Age < 0]"
   ]
  },
  {
   "cell_type": "code",
   "execution_count": null,
   "id": "9e8311fc",
   "metadata": {},
   "outputs": [],
   "source": [
    "#remove all negative\n",
    "df['Age'] = df['Age'].abs()"
   ]
  },
  {
   "cell_type": "code",
   "execution_count": null,
   "id": "74f3d5be",
   "metadata": {},
   "outputs": [],
   "source": [
    "#check if removed\n",
    "df[df.Age < 0]"
   ]
  },
  {
   "cell_type": "code",
   "execution_count": null,
   "id": "cc6c97b7",
   "metadata": {},
   "outputs": [],
   "source": [
    "df.describe()"
   ]
  },
  {
   "cell_type": "code",
   "execution_count": null,
   "id": "00bd67b3",
   "metadata": {},
   "outputs": [],
   "source": [
    "label_encoder=preprocessing.LabelEncoder()\n",
    "df['No-show']=label_encoder.fit_transform(df['No-show'])\n",
    "df['Gender']=label_encoder.fit_transform(df['Gender'])\n",
    "df['Neighbourhood']=label_encoder.fit_transform(df['Neighbourhood'])\n",
    "\n"
   ]
  },
  {
   "cell_type": "code",
   "execution_count": null,
   "id": "01a9a0f5",
   "metadata": {},
   "outputs": [],
   "source": [
    "#Creating Features array\n",
    "X = df.iloc[:,0:8]"
   ]
  },
  {
   "cell_type": "code",
   "execution_count": null,
   "id": "b3dddb3a",
   "metadata": {},
   "outputs": [],
   "source": [
    "#creating output array\n",
    "Y=df.iloc[:,8]\n"
   ]
  },
  {
   "cell_type": "code",
   "execution_count": null,
   "id": "f1c1e49b",
   "metadata": {},
   "outputs": [],
   "source": [
    "X_train, X_test, Y_train, Y_test = train_test_split(X, Y,test_size = 0.3, random_state=0)\n",
    "X_test.shape"
   ]
  },
  {
   "cell_type": "markdown",
   "id": "6c8d8d89",
   "metadata": {},
   "source": [
    "Logestic Regression\n"
   ]
  },
  {
   "cell_type": "code",
   "execution_count": null,
   "id": "5a43341f",
   "metadata": {},
   "outputs": [],
   "source": [
    "classifier = LogisticRegression(solver='lbfgs',random_state=0,C=2, max_iter=2000 )"
   ]
  },
  {
   "cell_type": "code",
   "execution_count": null,
   "id": "9259884b",
   "metadata": {},
   "outputs": [],
   "source": [
    "#feeding data into the classifier\n",
    "classifier.fit(X_train, Y_train)\n"
   ]
  },
  {
   "cell_type": "code",
   "execution_count": null,
   "id": "438b733c",
   "metadata": {},
   "outputs": [],
   "source": [
    "predicted_y = classifier.predict(X_test)"
   ]
  },
  {
   "cell_type": "code",
   "execution_count": null,
   "id": "ca0e91a4",
   "metadata": {},
   "outputs": [],
   "source": [
    "#for x in range(len(predicted_y)):\n",
    "  # if (predicted_y[x] == 1):\n",
    "    #  print(x, end=\"\\t\")\n",
    "\n",
    "print('Accuracy: {:.2f}'.format(classifier.score(X_test, Y_test)))\n"
   ]
  },
  {
   "cell_type": "markdown",
   "id": "9c709b04",
   "metadata": {},
   "source": [
    "Artifitial Neural Network (ANN):\n"
   ]
  },
  {
   "cell_type": "code",
   "execution_count": null,
   "id": "44389adc",
   "metadata": {},
   "outputs": [],
   "source": [
    "\n",
    "sc = StandardScaler()\n",
    "X_train = sc.fit_transform(X_train)\n",
    "X_test = sc.transform(X_test)\n"
   ]
  },
  {
   "cell_type": "code",
   "execution_count": null,
   "id": "9787d2fe",
   "metadata": {},
   "outputs": [],
   "source": [
    "#print(X_train[:,0])"
   ]
  },
  {
   "cell_type": "code",
   "execution_count": null,
   "id": "1f8ebfdc",
   "metadata": {},
   "outputs": [],
   "source": [
    "#initialization\n",
    "classifier = Sequential()\n",
    "\n",
    "#Adding the input layer and a hidden layer\n",
    "classifier.add(Dense( 5, kernel_initializer = 'glorot_uniform', activation = 'relu', input_dim = 8))\n",
    "\n",
    "#Adding second hidden layer\n",
    "classifier.add(Dense(5, kernel_initializer = 'glorot_uniform', activation = 'relu'))\n",
    "\n",
    "#Adding output layer\n",
    "classifier.add(Dense(1, kernel_initializer= 'glorot_uniform', activation = 'sigmoid'))"
   ]
  },
  {
   "cell_type": "code",
   "execution_count": null,
   "id": "c321c4b7",
   "metadata": {},
   "outputs": [],
   "source": [
    "#Compiling the artificial neural network\n",
    "classifier.compile(optimizer = 'adam', loss = 'binary_crossentropy',\n",
    "metrics = ['accuracy'])"
   ]
  },
  {
   "cell_type": "code",
   "execution_count": null,
   "id": "5cdbab1b",
   "metadata": {},
   "outputs": [],
   "source": [
    "#Fitting artifical neural network to the training set\n",
    "classifier.fit(X_train, Y_train, batch_size = 10, epochs = 10)"
   ]
  },
  {
   "cell_type": "code",
   "execution_count": null,
   "id": "90f9ebf6",
   "metadata": {},
   "outputs": [],
   "source": [
    "# Predicting the Test set results\n",
    "Y_pred = classifier.predict(X_test)\n",
    "#Converting probabilities into a binary result\n",
    "Y_pred = (Y_pred > 0.5)\n",
    "Y_pred[:10]"
   ]
  },
  {
   "cell_type": "code",
   "execution_count": null,
   "id": "20335d2d",
   "metadata": {},
   "outputs": [],
   "source": [
    "print(classification_report(Y_pred,Y_test))"
   ]
  },
  {
   "cell_type": "markdown",
   "id": "f4739700",
   "metadata": {},
   "source": [
    "k-nearest neighbors algorithm (KNN):\n"
   ]
  },
  {
   "cell_type": "code",
   "execution_count": null,
   "id": "2f8460a1",
   "metadata": {},
   "outputs": [],
   "source": [
    "from sklearn.neighbors import KNeighborsClassifier"
   ]
  },
  {
   "cell_type": "code",
   "execution_count": null,
   "id": "aef0fdaa",
   "metadata": {},
   "outputs": [],
   "source": [
    "KNN= KNeighborsClassifier(n_neighbors=15)"
   ]
  },
  {
   "cell_type": "code",
   "execution_count": null,
   "id": "2e0bb9c0",
   "metadata": {},
   "outputs": [],
   "source": [
    "KNN.fit(X_train,Y_train)"
   ]
  },
  {
   "cell_type": "code",
   "execution_count": null,
   "id": "666b4868",
   "metadata": {},
   "outputs": [],
   "source": [
    "Y_predict = KNN.predict(X_test)"
   ]
  },
  {
   "cell_type": "code",
   "execution_count": null,
   "id": "46ad26ca",
   "metadata": {},
   "outputs": [],
   "source": [
    "from sklearn.metrics import classification_report, confusion_matrix"
   ]
  },
  {
   "cell_type": "code",
   "execution_count": null,
   "id": "c2cd19cf",
   "metadata": {},
   "outputs": [],
   "source": [
    "print (classification_report(Y_predict,Y_test))"
   ]
  },
  {
   "cell_type": "markdown",
   "id": "f4739700",
   "metadata": {},
   "source": [
    "Naive bayes Gaussian Classifier:"
   ]
  },
  {
   "cell_type": "code",
   "execution_count": null,
   "id": "12c008f5",
   "metadata": {},
   "outputs": [],
   "source": [
    "gnb = GaussianNB()"
   ]
  },
  {
   "cell_type": "code",
   "execution_count": null,
   "id": "fb6d48fe",
   "metadata": {},
   "outputs": [],
   "source": []
  },
  {
   "cell_type": "code",
   "execution_count": null,
   "id": "24b42bb3",
   "metadata": {},
   "outputs": [],
   "source": [
    "gnb.fit(X_train, Y_train)"
   ]
  },
  {
   "cell_type": "code",
   "execution_count": null,
   "id": "e5af660f",
   "metadata": {},
   "outputs": [],
   "source": [
    "y_pred = gnb.predict(X_test)\n",
    "print(y_pred)"
   ]
  },
  {
   "cell_type": "code",
   "execution_count": null,
   "id": "d10d5490",
   "metadata": {},
   "outputs": [],
   "source": [
    "print(\"Accuracy:\",metrics.accuracy_score(Y_test, y_pred))"
   ]
  },
  {
   "cell_type": "code",
   "execution_count": null,
   "id": "14fa21ef",
   "metadata": {},
   "outputs": [],
   "source": [
    "cm=np.array(confusion_matrix(Y_test,y_pred))\n",
    "\n",
    "cm"
   ]
  },
  {
   "cell_type": "code",
   "execution_count": null,
   "id": "382f0c67",
   "metadata": {},
   "outputs": [],
   "source": [
    "print (classification_report(Y_test, y_pred))"
   ]
  },
  {
   "cell_type": "code",
   "execution_count": null,
   "id": "00fc9872",
   "metadata": {},
   "outputs": [],
   "source": [
    "from sklearn.svm import SVC"
   ]
  },
  {
   "cell_type": "code",
   "execution_count": null,
   "id": "e928c84b",
   "metadata": {},
   "outputs": [],
   "source": [
    "svclassifier = SVC(kernel='linear')"
   ]
  },
  {
   "cell_type": "code",
   "execution_count": null,
   "id": "b85613c5",
   "metadata": {},
   "outputs": [],
   "source": [
    "svclassifier.fit(X_train, Y_train)"
   ]
  },
  {
   "cell_type": "code",
   "execution_count": null,
   "id": "9d3e20b5",
   "metadata": {},
   "outputs": [],
   "source": [
    "Y_pred = svclassifier.predict(X_test)"
   ]
  },
  {
   "cell_type": "code",
   "execution_count": null,
   "id": "739765e4",
   "metadata": {},
   "outputs": [],
   "source": [
    "print(confusion_matrix(Y_test,Y_pred))"
   ]
  },
  {
   "cell_type": "code",
   "execution_count": null,
   "id": "48efa141",
   "metadata": {},
   "outputs": [],
   "source": [
    "print(classification_report(Y_test,Y_pred))"
   ]
  }
 ],
 "metadata": {
  "kernelspec": {
   "display_name": "Python 3",
   "language": "python",
   "name": "python3"
  },
  "language_info": {
   "codemirror_mode": {
    "name": "ipython",
    "version": 3
   },
   "file_extension": ".py",
   "mimetype": "text/x-python",
   "name": "python",
   "nbconvert_exporter": "python",
   "pygments_lexer": "ipython3",
   "version": "3.10.1"
  }
 },
 "nbformat": 4,
 "nbformat_minor": 5
}
